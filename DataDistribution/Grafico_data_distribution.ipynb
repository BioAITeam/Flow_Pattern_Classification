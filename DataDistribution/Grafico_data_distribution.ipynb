{
 "cells": [
  {
   "cell_type": "markdown",
   "metadata": {
    "id": "LJVCLlujJUQe"
   },
   "source": [
    "# Libraries"
   ]
  },
  {
   "cell_type": "code",
   "execution_count": null,
   "metadata": {
    "colab": {
     "base_uri": "https://localhost:8080/"
    },
    "executionInfo": {
     "elapsed": 5019,
     "status": "ok",
     "timestamp": 1617132159609,
     "user": {
      "displayName": "Harold Brayan Arteaga Arteaga",
      "photoUrl": "https://lh3.googleusercontent.com/a-/AOh14GhjjrrXNz7QPLJHtdLrEc1wTzeZ3UoCoBWASA8kIw=s64",
      "userId": "02881993551096447470"
     },
     "user_tz": 300
    },
    "id": "QbCpKHDSEYEF",
    "outputId": "299afdf7-6b48-4941-cbd1-aef784acff82"
   },
   "outputs": [],
   "source": [
    "import numpy as np\n",
    "from tensorflow.keras.models import Sequential\n",
    "from tensorflow.keras.layers import Dense, Dropout, Activation, Flatten\n",
    "from tensorflow.keras.layers import Conv2D, MaxPooling2D, Lambda\n",
    "from tensorflow.keras.layers import Dense\n",
    "from tensorflow.keras.preprocessing.image import ImageDataGenerator\n",
    "from sklearn.preprocessing import LabelEncoder\n",
    "from sklearn.model_selection  import train_test_split\n",
    "from tensorflow.python.keras import backend as K\n",
    "import tensorflow as tf\n",
    "import scipy\n",
    "import os\n",
    "%matplotlib inline\n",
    "import pandas as pd\n",
    "import numpy as np\n",
    "import matplotlib as mpl\n",
    "import matplotlib.pyplot as plt\n",
    "import matplotlib.colors as colors\n",
    "from mpl_toolkits.axes_grid1 import make_axes_locatable\n",
    "from sklearn.cluster import KMeans\n",
    "import seaborn as sns\n",
    "sns.set(style='whitegrid',\n",
    "        rc={'lines.linewidth': 2.5,\n",
    "        'figure.figsize': (10, 8),\n",
    "        'text.usetex': False,\n",
    "        # 'font.family': 'sans-serif',\n",
    "        # 'font.sans-serif': 'Optima LT Std',\n",
    "        })\n",
    "\n",
    "\n",
    "from sklearn.model_selection import train_test_split\n",
    "\n",
    "#Visualizers\n",
    "from yellowbrick.classifier import ClassificationReport\n",
    "from yellowbrick.classifier import ClassPredictionError\n",
    "from yellowbrick.classifier import ConfusionMatrix\n",
    "from yellowbrick.classifier import ROCAUC\n",
    "from yellowbrick.classifier import PrecisionRecallCurve\n",
    "import matplotlib.pyplot as plt\n",
    "import pandas\n",
    "#Metrics\n",
    "from sklearn.metrics import cohen_kappa_score\n",
    "from sklearn.metrics import hamming_loss\n",
    "from sklearn.metrics import log_loss\n",
    "from sklearn.metrics import zero_one_loss\n",
    "from sklearn.metrics import matthews_corrcoef\n",
    "#Classifiers\n",
    "from sklearn.neighbors import KNeighborsClassifier \n",
    "from sklearn.linear_model import LogisticRegression\n",
    "from scipy.cluster.hierarchy import dendrogram, linkage\n",
    "from scipy.cluster.hierarchy import cophenet\n",
    "from scipy.spatial.distance import pdist\n",
    "from scipy.spatial.distance import pdist, squareform\n",
    "from scipy.stats import mode\n",
    "\n"
   ]
  },
  {
   "cell_type": "markdown",
   "metadata": {
    "id": "HJN7tfuW2TJn"
   },
   "source": [
    "# SHOHAM"
   ]
  },
  {
   "cell_type": "code",
   "execution_count": null,
   "metadata": {
    "colab": {
     "base_uri": "https://localhost:8080/"
    },
    "executionInfo": {
     "elapsed": 381,
     "status": "ok",
     "timestamp": 1617136808147,
     "user": {
      "displayName": "Harold Brayan Arteaga Arteaga",
      "photoUrl": "https://lh3.googleusercontent.com/a-/AOh14GhjjrrXNz7QPLJHtdLrEc1wTzeZ3UoCoBWASA8kIw=s64",
      "userId": "02881993551096447470"
     },
     "user_tz": 300
    },
    "id": "Uc4UqM_n2UnU",
    "outputId": "18c96650-2c31-4115-b023-dcddc6c469f3"
   },
   "outputs": [],
   "source": [
    "# Load Dataset \n",
    "PATH = './DataBase/BDOShohamIML.csv'\n",
    "readdata = pandas.read_csv(PATH) \n",
    "dataset = pd.read_csv(PATH, names=['Vsl', 'Vsg', 'VisL', 'VisG', 'DenL', 'DenG', 'ST', 'Ang', 'ID', 'Flow Pattern'], header=0)\n",
    "# Summarize the Dataset \n",
    "print(\"shape of data =\",dataset.shape) \n",
    "# Class Distribution \n",
    "print(dataset.groupby('Flow Pattern').size()) "
   ]
  },
  {
   "cell_type": "code",
   "execution_count": null,
   "metadata": {
    "colab": {
     "base_uri": "https://localhost:8080/",
     "height": 298
    },
    "executionInfo": {
     "elapsed": 479,
     "status": "ok",
     "timestamp": 1617136811236,
     "user": {
      "displayName": "Harold Brayan Arteaga Arteaga",
      "photoUrl": "https://lh3.googleusercontent.com/a-/AOh14GhjjrrXNz7QPLJHtdLrEc1wTzeZ3UoCoBWASA8kIw=s64",
      "userId": "02881993551096447470"
     },
     "user_tz": 300
    },
    "id": "BPOvWrtB0uMw",
    "outputId": "bff3d2d9-26d3-45e8-ac3f-b16073c80c4e"
   },
   "outputs": [],
   "source": [
    "fig, ax = plt.subplots()\n",
    "plt.rcParams['font.sans-serif'] = 'Arial'\n",
    "plt.rcParams['font.family'] = 'sans-serif'\n",
    "plt.rcParams['text.color'] = '#909090'\n",
    "plt.rcParams['axes.labelcolor']= '#909090'\n",
    "plt.rcParams['xtick.color'] = '#909090'\n",
    "plt.rcParams['ytick.color'] = '#909090'\n",
    "plt.rcParams['font.size']=12\n",
    "cantidades = [1033,125,594,2905,140,878]\n",
    "nombres = [\"A\",\"B\",\"DB\",\"I\",\"SS\",\"SW\"]\n",
    "color_palette_list = ['#009ACD', '#ADD8E6', '#63D1F4', '#0EBFE9', '#C1F0F6', '#0099CC']\n",
    "#color_palette_list = ['lightseagreen','palegreen',\"#FFD97D\",'royalblue',\"#EE6055\",\"#60D394\"]\n",
    "#'lightseagreen','palegreen','yellowgreen','royalblue',\"#EE6055\",\"#60D394\",\"#FFD97D\"\n",
    "\n",
    "ax.pie(cantidades, labels=nombres,  \n",
    "       colors=color_palette_list[0:], autopct='%1.0f%%', \n",
    "       shadow=False, startangle=0,   \n",
    "       pctdistance=1.2,labeldistance=1.4)\n",
    "ax.axis('equal')\n",
    "ax.set_ylabel(\"Flow Pattern Dataset\")\n",
    "ax.legend(frameon=False, bbox_to_anchor=(1.3,0.8))\n",
    "ax.figure.subplots_adjust(right=0.8)\n",
    "#ax.figure.savefig(\"/content/drive/My Drive/Colab Notebooks/MPF/Metrics3/Figures_data/data_distribution_SHOHAM.pdf\")\n"
   ]
  },
  {
   "cell_type": "code",
   "execution_count": null,
   "metadata": {
    "colab": {
     "base_uri": "https://localhost:8080/",
     "height": 298
    },
    "executionInfo": {
     "elapsed": 524,
     "status": "ok",
     "timestamp": 1617136814435,
     "user": {
      "displayName": "Harold Brayan Arteaga Arteaga",
      "photoUrl": "https://lh3.googleusercontent.com/a-/AOh14GhjjrrXNz7QPLJHtdLrEc1wTzeZ3UoCoBWASA8kIw=s64",
      "userId": "02881993551096447470"
     },
     "user_tz": 300
    },
    "id": "MVkLApuq2cTb",
    "outputId": "8632d839-e0de-42f3-be37-ae0d7beeb0f4"
   },
   "outputs": [],
   "source": [
    "fig, ax = plt.subplots()\n",
    "plt.rcParams['font.sans-serif'] = 'Arial'\n",
    "plt.rcParams['font.family'] = 'sans-serif'\n",
    "plt.rcParams['text.color'] = '#909090'\n",
    "plt.rcParams['axes.labelcolor']= '#909090'\n",
    "plt.rcParams['xtick.color'] = '#909090'\n",
    "plt.rcParams['ytick.color'] = '#909090'\n",
    "plt.rcParams['font.size']=12\n",
    "cantidades = [1033,125,594,2905,140,878]\n",
    "nombres = [\"A\",\"B\",\"DB\",\"I\",\"SS\",\"SW\"]\n",
    "#color_palette_list = ['#009ACD', '#ADD8E6', '#63D1F4', '#0EBFE9', '#C1F0F6', '#0099CC']\n",
    "color_palette_list = ['lightseagreen','#007ACD',\"#FFD97D\",'#0EBFE9',\"#EE6055\",\"#60D394\"]\n",
    "#'lightseagreen','palegreen','yellowgreen','royalblue',\"#EE6055\",\"#60D394\",\"#FFD97D\"\n",
    "\n",
    "ax.pie(cantidades, labels=nombres,  \n",
    "       colors=color_palette_list[0:], autopct='%1.0f%%', \n",
    "       shadow=False, startangle=0,   \n",
    "       pctdistance=1.2,labeldistance=1.4)\n",
    "ax.axis('equal')\n",
    "ax.set_ylabel(\"Flow Pattern Dataset\")\n",
    "ax.legend(frameon=False, bbox_to_anchor=(1.3,0.8))\n",
    "ax.figure.subplots_adjust(right=0.8)\n",
    "#ax.figure.savefig(\"/content/drive/My Drive/Colab Notebooks/MPF/Metrics3/Figures_data/data_distribution_SHOHAM.pdf\")\n"
   ]
  },
  {
   "cell_type": "code",
   "execution_count": null,
   "metadata": {
    "colab": {
     "base_uri": "https://localhost:8080/",
     "height": 314
    },
    "executionInfo": {
     "elapsed": 850,
     "status": "ok",
     "timestamp": 1617136886000,
     "user": {
      "displayName": "Harold Brayan Arteaga Arteaga",
      "photoUrl": "https://lh3.googleusercontent.com/a-/AOh14GhjjrrXNz7QPLJHtdLrEc1wTzeZ3UoCoBWASA8kIw=s64",
      "userId": "02881993551096447470"
     },
     "user_tz": 300
    },
    "id": "gZHR5JpTmrmt",
    "outputId": "2efce1c9-1e06-47b3-d692-8decd19b99bf"
   },
   "outputs": [],
   "source": [
    "fig, ax = plt.subplots()\n",
    "plt.rcParams['font.sans-serif'] = 'Arial'\n",
    "plt.rcParams['font.family'] = 'sans-serif'\n",
    "plt.rcParams['text.color'] = '#909090'\n",
    "plt.rcParams['axes.labelcolor']= '#909090'\n",
    "plt.rcParams['xtick.color'] = '#909090'\n",
    "plt.rcParams['ytick.color'] = '#909090'\n",
    "plt.rcParams['font.size']=12\n",
    "cantidades = [125,  #B\n",
    "              140,  #SS\n",
    "              594,  #DB\n",
    "              878,  #SW\n",
    "              1033, #A\n",
    "              2905 #I\n",
    "              ]  \n",
    "\n",
    "nombres = [\"B\",\n",
    "           \"SS\",\n",
    "           \"DB\",\n",
    "           \"SW\",\n",
    "           \"A\",\n",
    "           \"I\"]\n",
    "\n",
    "color_palette_list = ['#C1F0F6','#007ACD',\"#FFD97D\",\"#60D394\",\"#EE6055\",'#0EBFE9']\n",
    "\n",
    "ax.pie(cantidades, labels=nombres,  \n",
    "       colors=color_palette_list[0:], autopct='%1.0f%%', \n",
    "       shadow=False, startangle=0,   \n",
    "       pctdistance=1.2,labeldistance=1.4)\n",
    "ax.axis('equal')\n",
    "#ax.set_ylabel(\"Flow Pattern Dataset\")\n",
    "ax.legend(frameon=False, bbox_to_anchor=(1.3,0.8))\n",
    "ax.figure.subplots_adjust(right=0.8)\n",
    "ax.figure.savefig(\"./data_distribution_SHOHAM2.pdf\")\n"
   ]
  },
  {
   "cell_type": "markdown",
   "metadata": {
    "id": "NkdrNxjv3yBW"
   },
   "source": [
    "# 12 DATABASES"
   ]
  },
  {
   "cell_type": "code",
   "execution_count": null,
   "metadata": {
    "colab": {
     "base_uri": "https://localhost:8080/"
    },
    "executionInfo": {
     "elapsed": 1073,
     "status": "ok",
     "timestamp": 1617136937200,
     "user": {
      "displayName": "Harold Brayan Arteaga Arteaga",
      "photoUrl": "https://lh3.googleusercontent.com/a-/AOh14GhjjrrXNz7QPLJHtdLrEc1wTzeZ3UoCoBWASA8kIw=s64",
      "userId": "02881993551096447470"
     },
     "user_tz": 300
    },
    "id": "CmNdAOdllKHd",
    "outputId": "b9350947-14db-4e0f-a15c-1139893a8b15"
   },
   "outputs": [],
   "source": [
    "# Load Dataset \n",
    "PATH = './DataBase/New_BD12Exp6FP.csv'\n",
    "readdata = pandas.read_csv(PATH) \n",
    "dataset = pd.read_csv(PATH, names=['Vsl', 'Vsg', 'VisL', 'VisG', 'DenL', 'DenG', 'ST', 'Ang', 'ID', 'Flow Pattern'], header=0)\n",
    "# Summarize the Dataset \n",
    "print(\"shape of data =\",dataset.shape) \n",
    "# Class Distribution \n",
    "print(dataset.groupby('Flow Pattern').size()) "
   ]
  },
  {
   "cell_type": "code",
   "execution_count": null,
   "metadata": {
    "colab": {
     "base_uri": "https://localhost:8080/",
     "height": 310
    },
    "executionInfo": {
     "elapsed": 546,
     "status": "ok",
     "timestamp": 1617136941707,
     "user": {
      "displayName": "Harold Brayan Arteaga Arteaga",
      "photoUrl": "https://lh3.googleusercontent.com/a-/AOh14GhjjrrXNz7QPLJHtdLrEc1wTzeZ3UoCoBWASA8kIw=s64",
      "userId": "02881993551096447470"
     },
     "user_tz": 300
    },
    "id": "QiwsGHbj4C3e",
    "outputId": "076cd8c3-900b-49a7-b73b-41cbeb665190"
   },
   "outputs": [],
   "source": [
    "fig, ax = plt.subplots()\n",
    "plt.rcParams['font.sans-serif'] = 'Arial'\n",
    "plt.rcParams['font.family'] = 'sans-serif'\n",
    "plt.rcParams['text.color'] = '#909090'\n",
    "plt.rcParams['axes.labelcolor']= '#909090'\n",
    "plt.rcParams['xtick.color'] = '#909090'\n",
    "plt.rcParams['ytick.color'] = '#909090'\n",
    "plt.rcParams['font.size']=12\n",
    "cantidades = [816,582,1093,1664,4721,153]\n",
    "nombres = [\"DB\",\"SS\",\"SW\",\"A\",\"I\",\"B\"] \n",
    "color_palette_list = ['#009ACD', '#ADD8E6', '#63D1F4', '#0EBFE9',   \n",
    "                      '#C1F0F6', '#0099CC']\n",
    "ax.pie(cantidades, labels=nombres,  \n",
    "       colors=color_palette_list[0:], autopct='%1.0f%%', \n",
    "       shadow=False, startangle=0,   \n",
    "       pctdistance=1.2,labeldistance=1.4)\n",
    "ax.axis('equal')\n",
    "ax.set_ylabel(\"Flow Pattern Dataset\")\n",
    "ax.legend(frameon=False, bbox_to_anchor=(1.3,0.8))\n",
    "ax.figure.subplots_adjust(right=0.8)\n",
    "#ax.figure.savefig(\"/content/drive/My Drive/Colab Notebooks/MPF/Metrics3/Figures_data/data_distribution_12DB.pdf\")\n"
   ]
  },
  {
   "cell_type": "code",
   "execution_count": null,
   "metadata": {
    "colab": {
     "base_uri": "https://localhost:8080/",
     "height": 314
    },
    "executionInfo": {
     "elapsed": 521,
     "status": "ok",
     "timestamp": 1617137154316,
     "user": {
      "displayName": "Harold Brayan Arteaga Arteaga",
      "photoUrl": "https://lh3.googleusercontent.com/a-/AOh14GhjjrrXNz7QPLJHtdLrEc1wTzeZ3UoCoBWASA8kIw=s64",
      "userId": "02881993551096447470"
     },
     "user_tz": 300
    },
    "id": "g_xZIBF04FaZ",
    "outputId": "7fdb79a7-265d-476c-daaa-56f6784237a7"
   },
   "outputs": [],
   "source": [
    "fig, ax = plt.subplots()\n",
    "plt.rcParams['font.sans-serif'] = 'Arial'\n",
    "plt.rcParams['font.family'] = 'sans-serif'\n",
    "plt.rcParams['text.color'] = '#909090'\n",
    "plt.rcParams['axes.labelcolor']= '#909090'\n",
    "plt.rcParams['xtick.color'] = '#909090'\n",
    "plt.rcParams['ytick.color'] = '#909090'\n",
    "plt.rcParams['font.size']=12\n",
    "cantidades = [153,#\"B\"\n",
    "              582,#\"SS\"\n",
    "              816,#\"DB\"\n",
    "              1093,#\"SW\"\n",
    "              1664,#\"A\"\n",
    "              4721,#\"I\"\n",
    "              ]\n",
    "\n",
    "nombres = [\"B\",\n",
    "           \"SS\",\n",
    "           \"DB\",\n",
    "           \"SW\",\n",
    "           \"A\",\n",
    "           \"I\"]\n",
    "\n",
    "color_palette_list = ['#C1F0F6','#007ACD',\"#FFD97D\",\"#60D394\",\"#EE6055\",'#0EBFE9']\n",
    "\n",
    "ax.pie(cantidades, labels=nombres,  \n",
    "       colors=color_palette_list[0:], autopct='%1.0f%%', \n",
    "       shadow=False, startangle=0,   \n",
    "       pctdistance=1.2,labeldistance=1.4)\n",
    "ax.axis('equal')\n",
    "#ax.set_ylabel(\"Flow Pattern Dataset\")\n",
    "#ax.legend(frameon=False, bbox_to_anchor=(1.3,0.8))\n",
    "ax.figure.subplots_adjust(right=0.8)\n",
    "ax.figure.savefig(\"./data_distribution_12DB2.pdf\")\n"
   ]
  },
  {
   "cell_type": "code",
   "execution_count": null,
   "metadata": {},
   "outputs": [],
   "source": []
  }
 ],
 "metadata": {
  "colab": {
   "collapsed_sections": [],
   "name": "Grafico_data_distribution.ipynb",
   "provenance": []
  },
  "kernelspec": {
   "display_name": "MPF",
   "language": "python",
   "name": "mpf"
  },
  "language_info": {
   "codemirror_mode": {
    "name": "ipython",
    "version": 3
   },
   "file_extension": ".py",
   "mimetype": "text/x-python",
   "name": "python",
   "nbconvert_exporter": "python",
   "pygments_lexer": "ipython3",
   "version": "3.8.10"
  }
 },
 "nbformat": 4,
 "nbformat_minor": 1
}
